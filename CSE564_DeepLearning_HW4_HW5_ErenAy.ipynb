{
  "nbformat": 4,
  "nbformat_minor": 0,
  "metadata": {
    "colab": {
      "name": "CSE564_DeepLearning_HW4_HW5_ErenAy.ipynb",
      "provenance": [],
      "collapsed_sections": [],
      "include_colab_link": true
    },
    "kernelspec": {
      "name": "python3",
      "display_name": "Python 3"
    },
    "accelerator": "GPU"
  },
  "cells": [
    {
      "cell_type": "markdown",
      "metadata": {
        "id": "view-in-github",
        "colab_type": "text"
      },
      "source": [
        "<a href=\"https://colab.research.google.com/github/erenay93/CSE564_Deep_Learning/blob/master/CSE564_DeepLearning_HW4_HW5_ErenAy.ipynb\" target=\"_parent\"><img src=\"https://colab.research.google.com/assets/colab-badge.svg\" alt=\"Open In Colab\"/></a>"
      ]
    },
    {
      "cell_type": "code",
      "metadata": {
        "id": "r7qifWzdKRSN",
        "colab_type": "code",
        "colab": {
          "base_uri": "https://localhost:8080/",
          "height": 1000
        },
        "outputId": "fe234266-4b87-417c-bb06-ffea7f230a59"
      },
      "source": [
        "!pip3 install --upgrade tensorflow"
      ],
      "execution_count": 8,
      "outputs": [
        {
          "output_type": "stream",
          "text": [
            "Collecting tensorflow\n",
            "  Downloading https://files.pythonhosted.org/packages/de/f0/96fb2e0412ae9692dbf400e5b04432885f677ad6241c088ccc5fe7724d69/tensorflow-1.14.0-cp36-cp36m-manylinux1_x86_64.whl (109.2MB)\n",
            "\u001b[K    100% |████████████████████████████████| 109.2MB 17kB/s \n",
            "\u001b[?25hCollecting absl-py>=0.7.0 (from tensorflow)\n",
            "\u001b[33m  Cache entry deserialization failed, entry ignored\u001b[0m\n",
            "\u001b[33m  Cache entry deserialization failed, entry ignored\u001b[0m\n",
            "  Downloading https://files.pythonhosted.org/packages/3b/72/e6e483e2db953c11efa44ee21c5fdb6505c4dffa447b4263ca8af6676b62/absl-py-0.8.1.tar.gz (103kB)\n",
            "\u001b[K    100% |████████████████████████████████| 112kB 1.5MB/s \n",
            "\u001b[?25hCollecting wrapt>=1.11.1 (from tensorflow)\n",
            "\u001b[33m  Cache entry deserialization failed, entry ignored\u001b[0m\n",
            "\u001b[33m  Cache entry deserialization failed, entry ignored\u001b[0m\n",
            "  Downloading https://files.pythonhosted.org/packages/23/84/323c2415280bc4fc880ac5050dddfb3c8062c2552b34c2e512eb4aa68f79/wrapt-1.11.2.tar.gz\n",
            "Collecting termcolor>=1.1.0 (from tensorflow)\n",
            "  Using cached https://files.pythonhosted.org/packages/8a/48/a76be51647d0eb9f10e2a4511bf3ffb8cc1e6b14e9e4fab46173aa79f981/termcolor-1.1.0.tar.gz\n",
            "Collecting grpcio>=1.8.6 (from tensorflow)\n",
            "  Downloading https://files.pythonhosted.org/packages/06/bd/acb44d9a4152835200f5f28c14c901d540cf43be4c7d8a5d3ed613677b1e/grpcio-1.25.0-cp36-cp36m-manylinux1_x86_64.whl (2.5MB)\n",
            "\u001b[K    100% |████████████████████████████████| 2.5MB 608kB/s \n",
            "\u001b[?25hCollecting tensorboard<1.15.0,>=1.14.0 (from tensorflow)\n",
            "\u001b[33m  Cache entry deserialization failed, entry ignored\u001b[0m\n",
            "  Downloading https://files.pythonhosted.org/packages/91/2d/2ed263449a078cd9c8a9ba50ebd50123adf1f8cfbea1492f9084169b89d9/tensorboard-1.14.0-py3-none-any.whl (3.1MB)\n",
            "\u001b[K    100% |████████████████████████████████| 3.2MB 425kB/s \n",
            "\u001b[?25hCollecting protobuf>=3.6.1 (from tensorflow)\n",
            "  Downloading https://files.pythonhosted.org/packages/7c/7a/9dd834766819195bb054ac7d60aba291e6304301a001751dccb4486b444e/protobuf-3.11.0-cp36-cp36m-manylinux1_x86_64.whl (1.3MB)\n",
            "\u001b[K    100% |████████████████████████████████| 1.3MB 1.0MB/s \n",
            "\u001b[?25hCollecting tensorflow-estimator<1.15.0rc0,>=1.14.0rc0 (from tensorflow)\n",
            "\u001b[33m  Cache entry deserialization failed, entry ignored\u001b[0m\n",
            "  Downloading https://files.pythonhosted.org/packages/3c/d5/21860a5b11caf0678fbc8319341b0ae21a07156911132e0e71bffed0510d/tensorflow_estimator-1.14.0-py2.py3-none-any.whl (488kB)\n",
            "\u001b[K    100% |████████████████████████████████| 491kB 732kB/s \n",
            "\u001b[?25hCollecting astor>=0.6.0 (from tensorflow)\n",
            "  Downloading https://files.pythonhosted.org/packages/d1/4f/950dfae467b384fc96bc6469de25d832534f6b4441033c39f914efd13418/astor-0.8.0-py2.py3-none-any.whl\n",
            "Collecting keras-preprocessing>=1.0.5 (from tensorflow)\n",
            "  Downloading https://files.pythonhosted.org/packages/28/6a/8c1f62c37212d9fc441a7e26736df51ce6f0e38455816445471f10da4f0a/Keras_Preprocessing-1.1.0-py2.py3-none-any.whl (41kB)\n",
            "\u001b[K    100% |████████████████████████████████| 51kB 984kB/s \n",
            "\u001b[?25hCollecting six>=1.10.0 (from tensorflow)\n",
            "\u001b[33m  Cache entry deserialization failed, entry ignored\u001b[0m\n",
            "\u001b[33m  Cache entry deserialization failed, entry ignored\u001b[0m\n",
            "  Downloading https://files.pythonhosted.org/packages/65/26/32b8464df2a97e6dd1b656ed26b2c194606c16fe163c695a992b36c11cdf/six-1.13.0-py2.py3-none-any.whl\n",
            "Collecting google-pasta>=0.1.6 (from tensorflow)\n",
            "\u001b[33m  Cache entry deserialization failed, entry ignored\u001b[0m\n",
            "  Downloading https://files.pythonhosted.org/packages/c3/fd/1e86bc4837cc9a3a5faf3db9b1854aa04ad35b5f381f9648fbe81a6f94e4/google_pasta-0.1.8-py3-none-any.whl (57kB)\n",
            "\u001b[K    100% |████████████████████████████████| 61kB 736kB/s \n",
            "\u001b[?25hCollecting numpy<2.0,>=1.14.5 (from tensorflow)\n",
            "  Downloading https://files.pythonhosted.org/packages/d2/ab/43e678759326f728de861edbef34b8e2ad1b1490505f20e0d1f0716c3bf4/numpy-1.17.4-cp36-cp36m-manylinux1_x86_64.whl (20.0MB)\n",
            "\u001b[K    100% |████████████████████████████████| 20.0MB 80kB/s \n",
            "\u001b[?25hCollecting wheel>=0.26 (from tensorflow)\n",
            "\u001b[33m  Cache entry deserialization failed, entry ignored\u001b[0m\n",
            "\u001b[33m  Cache entry deserialization failed, entry ignored\u001b[0m\n",
            "  Downloading https://files.pythonhosted.org/packages/00/83/b4a77d044e78ad1a45610eb88f745be2fd2c6d658f9798a15e384b7d57c9/wheel-0.33.6-py2.py3-none-any.whl\n",
            "Collecting gast>=0.2.0 (from tensorflow)\n",
            "\u001b[33m  Cache entry deserialization failed, entry ignored\u001b[0m\n",
            "  Downloading https://files.pythonhosted.org/packages/1f/04/4e36c33f8eb5c5b6c622a1f4859352a6acca7ab387257d4b3c191d23ec1d/gast-0.3.2.tar.gz\n",
            "Collecting keras-applications>=1.0.6 (from tensorflow)\n",
            "\u001b[33m  Cache entry deserialization failed, entry ignored\u001b[0m\n",
            "  Downloading https://files.pythonhosted.org/packages/71/e3/19762fdfc62877ae9102edf6342d71b28fbfd9dea3d2f96a882ce099b03f/Keras_Applications-1.0.8-py3-none-any.whl (50kB)\n",
            "\u001b[K    100% |████████████████████████████████| 51kB 780kB/s \n",
            "\u001b[?25hCollecting setuptools>=41.0.0 (from tensorboard<1.15.0,>=1.14.0->tensorflow)\n",
            "  Downloading https://files.pythonhosted.org/packages/54/28/c45d8b54c1339f9644b87663945e54a8503cfef59cf0f65b3ff5dd17cf64/setuptools-42.0.2-py2.py3-none-any.whl (583kB)\n",
            "\u001b[K    100% |████████████████████████████████| 583kB 1.1MB/s \n",
            "\u001b[?25hCollecting markdown>=2.6.8 (from tensorboard<1.15.0,>=1.14.0->tensorflow)\n",
            "\u001b[33m  Cache entry deserialization failed, entry ignored\u001b[0m\n",
            "\u001b[33m  Cache entry deserialization failed, entry ignored\u001b[0m\n",
            "  Downloading https://files.pythonhosted.org/packages/c0/4e/fd492e91abdc2d2fcb70ef453064d980688762079397f779758e055f6575/Markdown-3.1.1-py2.py3-none-any.whl (87kB)\n",
            "\u001b[K    100% |████████████████████████████████| 92kB 1.1MB/s \n",
            "\u001b[?25hCollecting werkzeug>=0.11.15 (from tensorboard<1.15.0,>=1.14.0->tensorflow)\n",
            "  Downloading https://files.pythonhosted.org/packages/ce/42/3aeda98f96e85fd26180534d36570e4d18108d62ae36f87694b476b83d6f/Werkzeug-0.16.0-py2.py3-none-any.whl (327kB)\n",
            "\u001b[K    100% |████████████████████████████████| 327kB 1.9MB/s \n",
            "\u001b[?25hCollecting h5py (from keras-applications>=1.0.6->tensorflow)\n",
            "  Downloading https://files.pythonhosted.org/packages/60/06/cafdd44889200e5438b897388f3075b52a8ef01f28a17366d91de0fa2d05/h5py-2.10.0-cp36-cp36m-manylinux1_x86_64.whl (2.9MB)\n",
            "\u001b[K    100% |████████████████████████████████| 2.9MB 536kB/s \n",
            "\u001b[?25hBuilding wheels for collected packages: absl-py, wrapt, termcolor, gast\n",
            "  Running setup.py bdist_wheel for absl-py ... \u001b[?25l-\b \bdone\n",
            "\u001b[?25h  Stored in directory: /home/eren/.cache/pip/wheels/a7/15/a0/0a0561549ad11cdc1bc8fa1191a353efd30facf6bfb507aefc\n",
            "  Running setup.py bdist_wheel for wrapt ... \u001b[?25l-\b \b\\\b \bdone\n",
            "\u001b[?25h  Stored in directory: /home/eren/.cache/pip/wheels/d7/de/2e/efa132238792efb6459a96e85916ef8597fcb3d2ae51590dfd\n",
            "  Running setup.py bdist_wheel for termcolor ... \u001b[?25l-\b \bdone\n",
            "\u001b[?25h  Stored in directory: /home/eren/.cache/pip/wheels/7c/06/54/bc84598ba1daf8f970247f550b175aaaee85f68b4b0c5ab2c6\n",
            "  Running setup.py bdist_wheel for gast ... \u001b[?25l-\b \bdone\n",
            "\u001b[?25h  Stored in directory: /home/eren/.cache/pip/wheels/59/38/c6/234dc39b4f6951a0768fbc02d5b7207137a5b1d9094f0d54bf\n",
            "Successfully built absl-py wrapt termcolor gast\n",
            "Installing collected packages: six, absl-py, wrapt, termcolor, grpcio, setuptools, protobuf, wheel, markdown, numpy, werkzeug, tensorboard, tensorflow-estimator, astor, keras-preprocessing, google-pasta, gast, h5py, keras-applications, tensorflow\n",
            "Successfully installed absl-py-0.8.1 astor-0.8.0 gast-0.3.2 google-pasta-0.1.8 grpcio-1.25.0 h5py-2.10.0 keras-applications-1.0.8 keras-preprocessing-1.1.0 markdown-3.1.1 numpy-1.17.4 protobuf-3.11.0 setuptools-42.0.2 six-1.13.0 tensorboard-1.14.0 tensorflow-1.14.0 tensorflow-estimator-1.14.0 termcolor-1.1.0 werkzeug-0.16.0 wheel-0.33.6 wrapt-1.11.2\n"
          ],
          "name": "stdout"
        }
      ]
    },
    {
      "cell_type": "code",
      "metadata": {
        "id": "o0jp2py-efwY",
        "colab_type": "code",
        "colab": {
          "base_uri": "https://localhost:8080/",
          "height": 734
        },
        "outputId": "ae53168b-5be9-4e91-8421-fb5ce5970506"
      },
      "source": [
        "!pip3 install tensorflow==2.0.0b1\n",
        "!pip3 show tensorflow"
      ],
      "execution_count": 0,
      "outputs": [
        {
          "output_type": "stream",
          "text": [
            "Collecting tensorflow==2.0.0b1\n",
            "  Downloading https://files.pythonhosted.org/packages/29/6c/2c9a5c4d095c63c2fb37d20def0e4f92685f7aee9243d6aae25862694fd1/tensorflow-2.0.0b1-cp36-cp36m-manylinux1_x86_64.whl (87.9MB)\n",
            "\u001b[K    100% |████████████████████████████████| 87.9MB 21kB/s \n",
            "\u001b[?25hCollecting google-pasta>=0.1.6 (from tensorflow==2.0.0b1)\n",
            "  Using cached https://files.pythonhosted.org/packages/c3/fd/1e86bc4837cc9a3a5faf3db9b1854aa04ad35b5f381f9648fbe81a6f94e4/google_pasta-0.1.8-py3-none-any.whl\n",
            "Collecting keras-applications>=1.0.6 (from tensorflow==2.0.0b1)\n",
            "  Using cached https://files.pythonhosted.org/packages/71/e3/19762fdfc62877ae9102edf6342d71b28fbfd9dea3d2f96a882ce099b03f/Keras_Applications-1.0.8-py3-none-any.whl\n",
            "Collecting protobuf>=3.6.1 (from tensorflow==2.0.0b1)\n",
            "  Using cached https://files.pythonhosted.org/packages/7c/7a/9dd834766819195bb054ac7d60aba291e6304301a001751dccb4486b444e/protobuf-3.11.0-cp36-cp36m-manylinux1_x86_64.whl\n",
            "Collecting grpcio>=1.8.6 (from tensorflow==2.0.0b1)\n",
            "  Using cached https://files.pythonhosted.org/packages/06/bd/acb44d9a4152835200f5f28c14c901d540cf43be4c7d8a5d3ed613677b1e/grpcio-1.25.0-cp36-cp36m-manylinux1_x86_64.whl\n",
            "Collecting astor>=0.6.0 (from tensorflow==2.0.0b1)\n",
            "  Using cached https://files.pythonhosted.org/packages/d1/4f/950dfae467b384fc96bc6469de25d832534f6b4441033c39f914efd13418/astor-0.8.0-py2.py3-none-any.whl\n",
            "Collecting keras-preprocessing>=1.0.5 (from tensorflow==2.0.0b1)\n",
            "  Using cached https://files.pythonhosted.org/packages/28/6a/8c1f62c37212d9fc441a7e26736df51ce6f0e38455816445471f10da4f0a/Keras_Preprocessing-1.1.0-py2.py3-none-any.whl\n",
            "Collecting six>=1.10.0 (from tensorflow==2.0.0b1)\n",
            "  Using cached https://files.pythonhosted.org/packages/65/26/32b8464df2a97e6dd1b656ed26b2c194606c16fe163c695a992b36c11cdf/six-1.13.0-py2.py3-none-any.whl\n",
            "Collecting tf-estimator-nightly<1.14.0.dev2019060502,>=1.14.0.dev2019060501 (from tensorflow==2.0.0b1)\n",
            "  Downloading https://files.pythonhosted.org/packages/32/dd/99c47dd007dcf10d63fd895611b063732646f23059c618a373e85019eb0e/tf_estimator_nightly-1.14.0.dev2019060501-py2.py3-none-any.whl (496kB)\n",
            "\u001b[K    100% |████████████████████████████████| 501kB 1.5MB/s \n",
            "\u001b[?25hCollecting wheel>=0.26 (from tensorflow==2.0.0b1)\n",
            "  Using cached https://files.pythonhosted.org/packages/00/83/b4a77d044e78ad1a45610eb88f745be2fd2c6d658f9798a15e384b7d57c9/wheel-0.33.6-py2.py3-none-any.whl\n",
            "Collecting absl-py>=0.7.0 (from tensorflow==2.0.0b1)\n",
            "Collecting gast>=0.2.0 (from tensorflow==2.0.0b1)\n",
            "Collecting termcolor>=1.1.0 (from tensorflow==2.0.0b1)\n",
            "Collecting wrapt>=1.11.1 (from tensorflow==2.0.0b1)\n",
            "Collecting tb-nightly<1.14.0a20190604,>=1.14.0a20190603 (from tensorflow==2.0.0b1)\n",
            "  Downloading https://files.pythonhosted.org/packages/a4/96/571b875cd81dda9d5dfa1422a4f9d749e67c0a8d4f4f0b33a4e5f5f35e27/tb_nightly-1.14.0a20190603-py3-none-any.whl (3.1MB)\n",
            "\u001b[K    100% |████████████████████████████████| 3.1MB 466kB/s \n",
            "\u001b[?25hCollecting numpy<2.0,>=1.14.5 (from tensorflow==2.0.0b1)\n",
            "  Using cached https://files.pythonhosted.org/packages/d2/ab/43e678759326f728de861edbef34b8e2ad1b1490505f20e0d1f0716c3bf4/numpy-1.17.4-cp36-cp36m-manylinux1_x86_64.whl\n",
            "Collecting h5py (from keras-applications>=1.0.6->tensorflow==2.0.0b1)\n",
            "  Using cached https://files.pythonhosted.org/packages/60/06/cafdd44889200e5438b897388f3075b52a8ef01f28a17366d91de0fa2d05/h5py-2.10.0-cp36-cp36m-manylinux1_x86_64.whl\n",
            "Collecting setuptools (from protobuf>=3.6.1->tensorflow==2.0.0b1)\n",
            "  Using cached https://files.pythonhosted.org/packages/54/28/c45d8b54c1339f9644b87663945e54a8503cfef59cf0f65b3ff5dd17cf64/setuptools-42.0.2-py2.py3-none-any.whl\n",
            "Collecting markdown>=2.6.8 (from tb-nightly<1.14.0a20190604,>=1.14.0a20190603->tensorflow==2.0.0b1)\n",
            "  Using cached https://files.pythonhosted.org/packages/c0/4e/fd492e91abdc2d2fcb70ef453064d980688762079397f779758e055f6575/Markdown-3.1.1-py2.py3-none-any.whl\n",
            "Collecting werkzeug>=0.11.15 (from tb-nightly<1.14.0a20190604,>=1.14.0a20190603->tensorflow==2.0.0b1)\n",
            "  Using cached https://files.pythonhosted.org/packages/ce/42/3aeda98f96e85fd26180534d36570e4d18108d62ae36f87694b476b83d6f/Werkzeug-0.16.0-py2.py3-none-any.whl\n",
            "Installing collected packages: six, google-pasta, numpy, h5py, keras-applications, setuptools, protobuf, grpcio, astor, keras-preprocessing, tf-estimator-nightly, wheel, absl-py, gast, termcolor, wrapt, markdown, werkzeug, tb-nightly, tensorflow\n",
            "Successfully installed absl-py-0.8.1 astor-0.8.0 gast-0.3.2 google-pasta-0.1.8 grpcio-1.25.0 h5py-2.10.0 keras-applications-1.0.8 keras-preprocessing-1.1.0 markdown-3.1.1 numpy-1.17.4 protobuf-3.11.0 setuptools-42.0.2 six-1.13.0 tb-nightly-1.14.0a20190603 tensorflow-2.0.0b1 termcolor-1.1.0 tf-estimator-nightly-1.14.0.dev2019060501 werkzeug-0.16.0 wheel-0.33.6 wrapt-1.11.2\n"
          ],
          "name": "stdout"
        }
      ]
    },
    {
      "cell_type": "code",
      "metadata": {
        "id": "4X5a4HxwQIF9",
        "colab_type": "code",
        "colab": {
          "base_uri": "https://localhost:8080/",
          "height": 479
        },
        "outputId": "b7c556f0-3552-4788-8de9-4028ea5176a9"
      },
      "source": [
        "# Python ≥3.5 is required\n",
        "import sys\n",
        "assert sys.version_info >= (3, 5)\n",
        "\n",
        "# Scikit-Learn ≥0.20 is required\n",
        "import sklearn\n",
        "#assert sklearn.__version__ >= \"0.20\"\n",
        "\n",
        "try:\n",
        "    # %tensorflow_version only exists in Colab.\n",
        "    %tensorflow_version 2.x\n",
        "except Exception:\n",
        "    pass\n",
        "\n",
        "# TensorFlow ≥2.0 is required\n",
        "import tensorflow as tf\n",
        "from tensorflow import keras\n",
        "assert tf.__version__ >= \"2.0\"\n",
        "\n",
        "# Common imports\n",
        "import numpy as np\n",
        "import os\n",
        "\n",
        "# to make this notebook's output stable across runs\n",
        "np.random.seed(42)\n",
        "\n",
        "# To plot pretty figures\n",
        "%matplotlib inline\n",
        "import matplotlib as mpl\n",
        "import matplotlib.pyplot as plt"
      ],
      "execution_count": 1,
      "outputs": [
        {
          "output_type": "stream",
          "text": [
            "/home/eren/.local/lib/python3.6/site-packages/tensorflow/python/framework/dtypes.py:516: FutureWarning: Passing (type, 1) or '1type' as a synonym of type is deprecated; in a future version of numpy, it will be understood as (type, (1,)) / '(1,)type'.\n",
            "  _np_qint8 = np.dtype([(\"qint8\", np.int8, 1)])\n",
            "/home/eren/.local/lib/python3.6/site-packages/tensorflow/python/framework/dtypes.py:517: FutureWarning: Passing (type, 1) or '1type' as a synonym of type is deprecated; in a future version of numpy, it will be understood as (type, (1,)) / '(1,)type'.\n",
            "  _np_quint8 = np.dtype([(\"quint8\", np.uint8, 1)])\n",
            "/home/eren/.local/lib/python3.6/site-packages/tensorflow/python/framework/dtypes.py:518: FutureWarning: Passing (type, 1) or '1type' as a synonym of type is deprecated; in a future version of numpy, it will be understood as (type, (1,)) / '(1,)type'.\n",
            "  _np_qint16 = np.dtype([(\"qint16\", np.int16, 1)])\n",
            "/home/eren/.local/lib/python3.6/site-packages/tensorflow/python/framework/dtypes.py:519: FutureWarning: Passing (type, 1) or '1type' as a synonym of type is deprecated; in a future version of numpy, it will be understood as (type, (1,)) / '(1,)type'.\n",
            "  _np_quint16 = np.dtype([(\"quint16\", np.uint16, 1)])\n",
            "/home/eren/.local/lib/python3.6/site-packages/tensorflow/python/framework/dtypes.py:520: FutureWarning: Passing (type, 1) or '1type' as a synonym of type is deprecated; in a future version of numpy, it will be understood as (type, (1,)) / '(1,)type'.\n",
            "  _np_qint32 = np.dtype([(\"qint32\", np.int32, 1)])\n",
            "/home/eren/.local/lib/python3.6/site-packages/tensorflow/python/framework/dtypes.py:525: FutureWarning: Passing (type, 1) or '1type' as a synonym of type is deprecated; in a future version of numpy, it will be understood as (type, (1,)) / '(1,)type'.\n",
            "  np_resource = np.dtype([(\"resource\", np.ubyte, 1)])\n",
            "/home/eren/.local/lib/python3.6/site-packages/requests/__init__.py:91: RequestsDependencyWarning: urllib3 (1.25.6) or chardet (3.0.4) doesn't match a supported version!\n",
            "  RequestsDependencyWarning)\n",
            "/home/eren/.local/lib/python3.6/site-packages/tensorboard/compat/tensorflow_stub/dtypes.py:541: FutureWarning: Passing (type, 1) or '1type' as a synonym of type is deprecated; in a future version of numpy, it will be understood as (type, (1,)) / '(1,)type'.\n",
            "  _np_qint8 = np.dtype([(\"qint8\", np.int8, 1)])\n",
            "/home/eren/.local/lib/python3.6/site-packages/tensorboard/compat/tensorflow_stub/dtypes.py:542: FutureWarning: Passing (type, 1) or '1type' as a synonym of type is deprecated; in a future version of numpy, it will be understood as (type, (1,)) / '(1,)type'.\n",
            "  _np_quint8 = np.dtype([(\"quint8\", np.uint8, 1)])\n",
            "/home/eren/.local/lib/python3.6/site-packages/tensorboard/compat/tensorflow_stub/dtypes.py:543: FutureWarning: Passing (type, 1) or '1type' as a synonym of type is deprecated; in a future version of numpy, it will be understood as (type, (1,)) / '(1,)type'.\n",
            "  _np_qint16 = np.dtype([(\"qint16\", np.int16, 1)])\n",
            "/home/eren/.local/lib/python3.6/site-packages/tensorboard/compat/tensorflow_stub/dtypes.py:544: FutureWarning: Passing (type, 1) or '1type' as a synonym of type is deprecated; in a future version of numpy, it will be understood as (type, (1,)) / '(1,)type'.\n",
            "  _np_quint16 = np.dtype([(\"quint16\", np.uint16, 1)])\n",
            "/home/eren/.local/lib/python3.6/site-packages/tensorboard/compat/tensorflow_stub/dtypes.py:545: FutureWarning: Passing (type, 1) or '1type' as a synonym of type is deprecated; in a future version of numpy, it will be understood as (type, (1,)) / '(1,)type'.\n",
            "  _np_qint32 = np.dtype([(\"qint32\", np.int32, 1)])\n",
            "/home/eren/.local/lib/python3.6/site-packages/tensorboard/compat/tensorflow_stub/dtypes.py:550: FutureWarning: Passing (type, 1) or '1type' as a synonym of type is deprecated; in a future version of numpy, it will be understood as (type, (1,)) / '(1,)type'.\n",
            "  np_resource = np.dtype([(\"resource\", np.ubyte, 1)])\n"
          ],
          "name": "stderr"
        }
      ]
    },
    {
      "cell_type": "code",
      "metadata": {
        "id": "z3s5LYIFF7NT",
        "colab_type": "code",
        "colab": {
          "base_uri": "https://localhost:8080/",
          "height": 34
        },
        "outputId": "a1f8f23e-7f81-4d73-dd0f-4c2998a73154"
      },
      "source": [
        "#import tensorflow as tf\n",
        "\n",
        "(train_images, train_labels), (test_images, test_labels) = tf.keras.datasets.cifar10.load_data()\n",
        "#dataset = np.load(path)\n",
        "len(train_images)"
      ],
      "execution_count": 2,
      "outputs": [
        {
          "output_type": "execute_result",
          "data": {
            "text/plain": [
              "50000"
            ]
          },
          "metadata": {
            "tags": []
          },
          "execution_count": 2
        }
      ]
    },
    {
      "cell_type": "code",
      "metadata": {
        "id": "Ythl-FIgdaFA",
        "colab_type": "code",
        "colab": {}
      },
      "source": [
        "# convert from integers to floats\n",
        "\ttrain_norm = train_images.astype('float32')\n",
        "\ttest_norm = test_images.astype('float32')\n",
        "\t# normalize to range 0-1\n",
        "\ttrain_norm = train_norm / 255.0\n",
        "\ttest_norm = test_norm / 255.0"
      ],
      "execution_count": 0,
      "outputs": []
    },
    {
      "cell_type": "code",
      "metadata": {
        "id": "e4IJF-W9I9lX",
        "colab_type": "code",
        "colab": {}
      },
      "source": [
        ""
      ],
      "execution_count": 0,
      "outputs": []
    },
    {
      "cell_type": "code",
      "metadata": {
        "id": "jvBEjCeyFk4Z",
        "colab_type": "code",
        "colab": {
          "base_uri": "https://localhost:8080/",
          "height": 1000
        },
        "outputId": "778b3172-0f04-4782-c9b1-a6d26030de31"
      },
      "source": [
        "#import numpy as np\n",
        "#import matplotlib.pyplot as plt\n",
        "\n",
        "for i in range(0,10):\n",
        "  two_d = (np.reshape(train_norm[i], (32, 32, 3)) * 255).astype(np.uint8)\n",
        "  plt.imshow(two_d, interpolation='nearest', vmin=0, vmax=255)\n",
        "  plt.ylabel(train_labels[i])\n",
        "  plt.show()\n"
      ],
      "execution_count": 76,
      "outputs": [
        {
          "output_type": "display_data",
          "data": {
            "text/plain": [
              "<Figure size 432x288 with 1 Axes>"
            ],
            "image/png": "[encoded data removed]"
          },
          "metadata": {
            "tags": [],
            "needs_background": "light"
          }
        },
        {
          "output_type": "display_data",
          "data": {
            "text/plain": [
              "<Figure size 432x288 with 1 Axes>"
            ],
            "image/png": "[encoded data removed]"
          },
          "metadata": {
            "tags": [],
            "needs_background": "light"
          }
        },
        {
          "output_type": "display_data",
          "data": {
            "text/plain": [
              "<Figure size 432x288 with 1 Axes>"
            ],
            "image/png": "[encoded data removed]"
          },
          "metadata": {
            "tags": [],
            "needs_background": "light"
          }
        },
        {
          "output_type": "display_data",
          "data": {
            "text/plain": [
              "<Figure size 432x288 with 1 Axes>"
            ],
            "image/png": "[encoded data removed]"
          },
          "metadata": {
            "tags": [],
            "needs_background": "light"
          }
        },
        {
          "output_type": "display_data",
          "data": {
            "text/plain": [
              "<Figure size 432x288 with 1 Axes>"
            ],
            "image/png": "[encoded data removed]"
          },
          "metadata": {
            "tags": [],
            "needs_background": "light"
          }
        },
        {
          "output_type": "display_data",
          "data": {
            "text/plain": [
              "<Figure size 432x288 with 1 Axes>"
            ],
            "image/png": "[encoded data removed]"
          },
          "metadata": {
            "tags": [],
            "needs_background": "light"
          }
        },
        {
          "output_type": "display_data",
          "data": {
            "text/plain": [
              "<Figure size 432x288 with 1 Axes>"
            ],
            "image/png": "[encoded data removed]"
          },
          "metadata": {
            "tags": [],
            "needs_background": "light"
          }
        },
        {
          "output_type": "display_data",
          "data": {
            "text/plain": [
              "<Figure size 432x288 with 1 Axes>"
            ],
            "image/png": "[encoded data removed]"
          },
          "metadata": {
            "tags": [],
            "needs_background": "light"
          }
        },
        {
          "output_type": "display_data",
          "data": {
            "text/plain": [
              "<Figure size 432x288 with 1 Axes>"
            ],
            "image/png": "[encoded data removed]"
          },
          "metadata": {
            "tags": [],
            "needs_background": "light"
          }
        },
        {
          "output_type": "display_data",
          "data": {
            "text/plain": [
              "<Figure size 432x288 with 1 Axes>"
            ],
            "image/png": "[encoded data removed]"
          },
          "metadata": {
            "tags": [],
            "needs_background": "light"
          }
        }
      ]
    },
    {
      "cell_type": "code",
      "metadata": {
        "id": "JkAth9_nIkSK",
        "colab_type": "code",
        "colab": {
          "base_uri": "https://localhost:8080/",
          "height": 374
        },
        "outputId": "39c50fbc-7c5a-4025-c636-3cb038397da3"
      },
      "source": [
        "model_relu = keras.models.Sequential([\n",
        "    \n",
        "    keras.layers.Flatten(input_shape=[32, 32, 3]),\n",
        "    keras.layers.Dense(100, activation='relu', kernel_initializer=\"he_normal\"),\n",
        "    keras.layers.Dense(100, activation='relu',  kernel_initializer=\"he_normal\"),\n",
        "    keras.layers.Dense(10, activation=\"softmax\")\n",
        "])\n",
        "\n",
        "model_relu.compile(loss=\"sparse_categorical_crossentropy\",\n",
        "              optimizer=keras.optimizers.SGD(lr=1e-3),\n",
        "              metrics=[\"accuracy\"])\n",
        "\n",
        "history_relu = model_relu.fit(train_norm, train_labels, epochs=10,\n",
        "                    validation_data=(test_norm, test_labels))"
      ],
      "execution_count": 92,
      "outputs": [
        {
          "output_type": "stream",
          "text": [
            "Train on 50000 samples, validate on 10000 samples\n",
            "Epoch 1/10\n",
            "50000/50000 [==============================] - 3s 62us/sample - loss: 2.0919 - accuracy: 0.2429 - val_loss: 1.9644 - val_accuracy: 0.2954\n",
            "Epoch 2/10\n",
            "50000/50000 [==============================] - 3s 59us/sample - loss: 1.9171 - accuracy: 0.3228 - val_loss: 1.8819 - val_accuracy: 0.3374\n",
            "Epoch 3/10\n",
            "50000/50000 [==============================] - 3s 57us/sample - loss: 1.8496 - accuracy: 0.3508 - val_loss: 1.8251 - val_accuracy: 0.3579\n",
            "Epoch 4/10\n",
            "50000/50000 [==============================] - 3s 54us/sample - loss: 1.8059 - accuracy: 0.3670 - val_loss: 1.7910 - val_accuracy: 0.3692\n",
            "Epoch 5/10\n",
            "50000/50000 [==============================] - 3s 53us/sample - loss: 1.7721 - accuracy: 0.3801 - val_loss: 1.7619 - val_accuracy: 0.3763\n",
            "Epoch 6/10\n",
            "50000/50000 [==============================] - 3s 51us/sample - loss: 1.7438 - accuracy: 0.3906 - val_loss: 1.7312 - val_accuracy: 0.3909\n",
            "Epoch 7/10\n",
            "50000/50000 [==============================] - 3s 51us/sample - loss: 1.7210 - accuracy: 0.4000 - val_loss: 1.7114 - val_accuracy: 0.3939\n",
            "Epoch 8/10\n",
            "50000/50000 [==============================] - 3s 51us/sample - loss: 1.7002 - accuracy: 0.4074 - val_loss: 1.6931 - val_accuracy: 0.4055\n",
            "Epoch 9/10\n",
            "50000/50000 [==============================] - 3s 52us/sample - loss: 1.6828 - accuracy: 0.4126 - val_loss: 1.6773 - val_accuracy: 0.4127\n",
            "Epoch 10/10\n",
            "50000/50000 [==============================] - 3s 52us/sample - loss: 1.6657 - accuracy: 0.4200 - val_loss: 1.6620 - val_accuracy: 0.4169\n"
          ],
          "name": "stdout"
        }
      ]
    },
    {
      "cell_type": "code",
      "metadata": {
        "id": "DsqpviHmna9N",
        "colab_type": "code",
        "colab": {
          "base_uri": "https://localhost:8080/",
          "height": 374
        },
        "outputId": "2f8ef4bf-1480-4c8f-8aa1-80787d77a415"
      },
      "source": [
        "model_elu = keras.models.Sequential([\n",
        "    keras.layers.Flatten(input_shape=[32, 32, 3]),\n",
        "    keras.layers.Dense(100, activation='elu', kernel_initializer=\"he_normal\"),\n",
        "    keras.layers.Dense(100, activation='elu',  kernel_initializer=\"he_normal\"),\n",
        "    keras.layers.Dense(10, activation=\"softmax\")\n",
        "])\n",
        "\n",
        "model_elu.compile(loss=\"sparse_categorical_crossentropy\",\n",
        "              optimizer=keras.optimizers.SGD(lr=1e-3),\n",
        "              metrics=[\"accuracy\"])\n",
        "\n",
        "history_elu = model_elu.fit(train_norm, train_labels, epochs=10,\n",
        "                    validation_data=(test_norm, test_labels))"
      ],
      "execution_count": 73,
      "outputs": [
        {
          "output_type": "stream",
          "text": [
            "Train on 50000 samples, validate on 10000 samples\n",
            "Epoch 1/10\n",
            "50000/50000 [==============================] - 3s 60us/sample - loss: 2.0299 - accuracy: 0.2680 - val_loss: 1.9154 - val_accuracy: 0.3279\n",
            "Epoch 2/10\n",
            "50000/50000 [==============================] - 3s 58us/sample - loss: 1.8686 - accuracy: 0.3418 - val_loss: 1.8483 - val_accuracy: 0.3503\n",
            "Epoch 3/10\n",
            "50000/50000 [==============================] - 3s 57us/sample - loss: 1.8157 - accuracy: 0.3628 - val_loss: 1.8035 - val_accuracy: 0.3713\n",
            "Epoch 4/10\n",
            "50000/50000 [==============================] - 3s 57us/sample - loss: 1.7832 - accuracy: 0.3762 - val_loss: 1.7712 - val_accuracy: 0.3830\n",
            "Epoch 5/10\n",
            "50000/50000 [==============================] - 3s 59us/sample - loss: 1.7583 - accuracy: 0.3878 - val_loss: 1.7458 - val_accuracy: 0.3928\n",
            "Epoch 6/10\n",
            "50000/50000 [==============================] - 3s 57us/sample - loss: 1.7369 - accuracy: 0.3943 - val_loss: 1.7337 - val_accuracy: 0.3920\n",
            "Epoch 7/10\n",
            "50000/50000 [==============================] - 3s 58us/sample - loss: 1.7179 - accuracy: 0.4015 - val_loss: 1.7192 - val_accuracy: 0.4012\n",
            "Epoch 8/10\n",
            "50000/50000 [==============================] - 3s 58us/sample - loss: 1.7003 - accuracy: 0.4081 - val_loss: 1.7008 - val_accuracy: 0.4027\n",
            "Epoch 9/10\n",
            "50000/50000 [==============================] - 3s 59us/sample - loss: 1.6836 - accuracy: 0.4143 - val_loss: 1.6993 - val_accuracy: 0.4086\n",
            "Epoch 10/10\n",
            "50000/50000 [==============================] - 3s 59us/sample - loss: 1.6682 - accuracy: 0.4194 - val_loss: 1.6687 - val_accuracy: 0.4159\n"
          ],
          "name": "stdout"
        }
      ]
    },
    {
      "cell_type": "code",
      "metadata": {
        "id": "SASaD-5qnmBP",
        "colab_type": "code",
        "colab": {
          "base_uri": "https://localhost:8080/",
          "height": 374
        },
        "outputId": "2bd6514a-667f-4d3a-8ab8-f113e29187d2"
      },
      "source": [
        "model_tanh = keras.models.Sequential([\n",
        "    keras.layers.Flatten(input_shape=[32, 32, 3]),\n",
        "    keras.layers.Dense(100, activation='tanh', kernel_initializer=\"glorot_uniform\"),\n",
        "    keras.layers.Dense(100, activation='tanh',  kernel_initializer=\"glorot_uniform\"),\n",
        "    keras.layers.Dense(10, activation=\"softmax\")\n",
        "])\n",
        "\n",
        "model_tanh.compile(loss=\"sparse_categorical_crossentropy\",\n",
        "              optimizer=keras.optimizers.SGD(lr=1e-3),\n",
        "              metrics=[\"accuracy\"])\n",
        "\n",
        "history_tanh = model_tanh.fit(train_norm, train_labels, epochs=10,\n",
        "                    validation_data=(test_norm, test_labels))"
      ],
      "execution_count": 43,
      "outputs": [
        {
          "output_type": "stream",
          "text": [
            "Train on 45000 samples, validate on 5000 samples\n",
            "Epoch 1/10\n",
            "45000/45000 [==============================] - 3s 58us/sample - loss: 2.0921 - accuracy: 0.2520 - val_loss: 1.9617 - val_accuracy: 0.3076\n",
            "Epoch 2/10\n",
            "45000/45000 [==============================] - 3s 58us/sample - loss: 1.9275 - accuracy: 0.3232 - val_loss: 1.8832 - val_accuracy: 0.3324\n",
            "Epoch 3/10\n",
            "45000/45000 [==============================] - 2s 55us/sample - loss: 1.8648 - accuracy: 0.3491 - val_loss: 1.8280 - val_accuracy: 0.3558\n",
            "Epoch 4/10\n",
            "45000/45000 [==============================] - 3s 57us/sample - loss: 1.8276 - accuracy: 0.3618 - val_loss: 1.7986 - val_accuracy: 0.3702\n",
            "Epoch 5/10\n",
            "45000/45000 [==============================] - 3s 57us/sample - loss: 1.8011 - accuracy: 0.3717 - val_loss: 1.7883 - val_accuracy: 0.3656\n",
            "Epoch 6/10\n",
            "45000/45000 [==============================] - 3s 56us/sample - loss: 1.7800 - accuracy: 0.3805 - val_loss: 1.7712 - val_accuracy: 0.3696\n",
            "Epoch 7/10\n",
            "45000/45000 [==============================] - 3s 58us/sample - loss: 1.7628 - accuracy: 0.3867 - val_loss: 1.7434 - val_accuracy: 0.3862\n",
            "Epoch 8/10\n",
            "45000/45000 [==============================] - 3s 58us/sample - loss: 1.7467 - accuracy: 0.3937 - val_loss: 1.7288 - val_accuracy: 0.3930\n",
            "Epoch 9/10\n",
            "45000/45000 [==============================] - 3s 57us/sample - loss: 1.7329 - accuracy: 0.3985 - val_loss: 1.7139 - val_accuracy: 0.3978\n",
            "Epoch 10/10\n",
            "45000/45000 [==============================] - 3s 59us/sample - loss: 1.7201 - accuracy: 0.4029 - val_loss: 1.7046 - val_accuracy: 0.4012\n"
          ],
          "name": "stdout"
        }
      ]
    },
    {
      "cell_type": "code",
      "metadata": {
        "id": "uHdWDlTgoLg6",
        "colab_type": "code",
        "colab": {
          "base_uri": "https://localhost:8080/",
          "height": 374
        },
        "outputId": "6594796f-7451-4a72-db91-e50ff181bd3c"
      },
      "source": [
        "model_selu = keras.models.Sequential([\n",
        "    keras.layers.Flatten(input_shape=[32, 32, 3]),\n",
        "    keras.layers.Dense(100, activation='selu', kernel_initializer=\"lecun_normal\"),\n",
        "    keras.layers.Dense(100, activation='selu',  kernel_initializer=\"lecun_normal\"),\n",
        "    keras.layers.Dense(10, activation=\"softmax\")\n",
        "])\n",
        "\n",
        "model_selu.compile(loss=\"sparse_categorical_crossentropy\",\n",
        "              optimizer=keras.optimizers.SGD(lr=1e-3),\n",
        "              metrics=[\"accuracy\"])\n",
        "\n",
        "history_selu = model_selu.fit(train_norm, train_labels, epochs=10,\n",
        "                    validation_data=(test_norm, test_labels))"
      ],
      "execution_count": 45,
      "outputs": [
        {
          "output_type": "stream",
          "text": [
            "Train on 45000 samples, validate on 5000 samples\n",
            "Epoch 1/10\n",
            "45000/45000 [==============================] - 3s 69us/sample - loss: 1.9939 - accuracy: 0.2848 - val_loss: 1.8754 - val_accuracy: 0.3326\n",
            "Epoch 2/10\n",
            "45000/45000 [==============================] - 3s 61us/sample - loss: 1.8473 - accuracy: 0.3530 - val_loss: 1.7995 - val_accuracy: 0.3740\n",
            "Epoch 3/10\n",
            "45000/45000 [==============================] - 3s 59us/sample - loss: 1.7979 - accuracy: 0.3732 - val_loss: 1.7566 - val_accuracy: 0.3910\n",
            "Epoch 4/10\n",
            "45000/45000 [==============================] - 3s 58us/sample - loss: 1.7667 - accuracy: 0.3838 - val_loss: 1.7471 - val_accuracy: 0.3784\n",
            "Epoch 5/10\n",
            "45000/45000 [==============================] - 3s 57us/sample - loss: 1.7436 - accuracy: 0.3937 - val_loss: 1.7397 - val_accuracy: 0.3908\n",
            "Epoch 6/10\n",
            "45000/45000 [==============================] - 3s 58us/sample - loss: 1.7235 - accuracy: 0.4013 - val_loss: 1.7147 - val_accuracy: 0.4070\n",
            "Epoch 7/10\n",
            "45000/45000 [==============================] - 3s 64us/sample - loss: 1.7065 - accuracy: 0.4076 - val_loss: 1.7128 - val_accuracy: 0.4038\n",
            "Epoch 8/10\n",
            "45000/45000 [==============================] - 3s 61us/sample - loss: 1.6925 - accuracy: 0.4128 - val_loss: 1.6940 - val_accuracy: 0.4062\n",
            "Epoch 9/10\n",
            "45000/45000 [==============================] - 2s 56us/sample - loss: 1.6768 - accuracy: 0.4181 - val_loss: 1.6760 - val_accuracy: 0.4102\n",
            "Epoch 10/10\n",
            "45000/45000 [==============================] - 3s 58us/sample - loss: 1.6637 - accuracy: 0.4232 - val_loss: 1.6655 - val_accuracy: 0.4158\n"
          ],
          "name": "stdout"
        }
      ]
    },
    {
      "cell_type": "code",
      "metadata": {
        "id": "Kn4xrzCDsTPz",
        "colab_type": "code",
        "colab": {
          "base_uri": "https://localhost:8080/",
          "height": 281
        },
        "outputId": "56a70611-c9cb-45a5-8c7b-753989f86deb"
      },
      "source": [
        "plt.plot(history_relu.history['val_accuracy'])\n",
        "plt.plot(history_elu.history['val_accuracy'])\n",
        "plt.plot(history_tanh.history['val_accuracy'])\n",
        "plt.plot(history_selu.history['val_accuracy'])\n",
        "plt.title('validation accuracy')\n",
        "plt.legend(['relu', 'elu', 'tanh', 'selu'], loc='upper left')\n",
        "plt.show()"
      ],
      "execution_count": 93,
      "outputs": [
        {
          "output_type": "display_data",
          "data": {
            "text/plain": [
              "<Figure size 432x288 with 1 Axes>"
            ],
            "image/png": "[encoded data removed]"
          },
          "metadata": {
            "tags": [],
            "needs_background": "light"
          }
        }
      ]
    },
    {
      "cell_type": "code",
      "metadata": {
        "id": "a42Q8DGZtmkz",
        "colab_type": "code",
        "colab": {
          "base_uri": "https://localhost:8080/",
          "height": 374
        },
        "outputId": "c79c2dbf-9e2d-4b02-b113-03ae44221458"
      },
      "source": [
        "model_selu_momentum = keras.models.Sequential([\n",
        "    keras.layers.Flatten(input_shape=[32, 32, 3]),\n",
        "    keras.layers.Dense(100, activation='selu', kernel_initializer=\"lecun_normal\"),\n",
        "    keras.layers.Dense(100, activation='selu',  kernel_initializer=\"lecun_normal\"),\n",
        "    keras.layers.Dense(10, activation=\"softmax\")\n",
        "])\n",
        "\n",
        "model_selu_momentum.compile(loss=\"sparse_categorical_crossentropy\",\n",
        "              optimizer = keras.optimizers.SGD(lr=0.001, momentum=0.9),\n",
        "              metrics=[\"accuracy\"])\n",
        "\n",
        "history_selu_momentum = model_selu_momentum.fit(train_norm, train_labels, epochs=10,\n",
        "                    validation_data=(test_norm, test_labels))"
      ],
      "execution_count": 50,
      "outputs": [
        {
          "output_type": "stream",
          "text": [
            "Train on 50000 samples, validate on 10000 samples\n",
            "Epoch 1/10\n",
            "50000/50000 [==============================] - 4s 78us/sample - loss: 1.8710 - accuracy: 0.3328 - val_loss: 1.7250 - val_accuracy: 0.3940\n",
            "Epoch 2/10\n",
            "50000/50000 [==============================] - 4s 71us/sample - loss: 1.7101 - accuracy: 0.3960 - val_loss: 1.6975 - val_accuracy: 0.4035\n",
            "Epoch 3/10\n",
            "50000/50000 [==============================] - 4s 71us/sample - loss: 1.6332 - accuracy: 0.4236 - val_loss: 1.5959 - val_accuracy: 0.4395\n",
            "Epoch 4/10\n",
            "50000/50000 [==============================] - 4s 71us/sample - loss: 1.5806 - accuracy: 0.4418 - val_loss: 1.5676 - val_accuracy: 0.4406\n",
            "Epoch 5/10\n",
            "50000/50000 [==============================] - 4s 71us/sample - loss: 1.5399 - accuracy: 0.4559 - val_loss: 1.5526 - val_accuracy: 0.4475\n",
            "Epoch 6/10\n",
            "50000/50000 [==============================] - 4s 71us/sample - loss: 1.5083 - accuracy: 0.4651 - val_loss: 1.5044 - val_accuracy: 0.4649\n",
            "Epoch 7/10\n",
            "50000/50000 [==============================] - 4s 72us/sample - loss: 1.4793 - accuracy: 0.4760 - val_loss: 1.5178 - val_accuracy: 0.4697\n",
            "Epoch 8/10\n",
            "50000/50000 [==============================] - 4s 73us/sample - loss: 1.4538 - accuracy: 0.4874 - val_loss: 1.4733 - val_accuracy: 0.4791\n",
            "Epoch 9/10\n",
            "50000/50000 [==============================] - 4s 72us/sample - loss: 1.4310 - accuracy: 0.4931 - val_loss: 1.5158 - val_accuracy: 0.4564\n",
            "Epoch 10/10\n",
            "50000/50000 [==============================] - 4s 73us/sample - loss: 1.4140 - accuracy: 0.4962 - val_loss: 1.4461 - val_accuracy: 0.4894\n"
          ],
          "name": "stdout"
        }
      ]
    },
    {
      "cell_type": "code",
      "metadata": {
        "id": "JOoayv_Btqqv",
        "colab_type": "code",
        "colab": {
          "base_uri": "https://localhost:8080/",
          "height": 374
        },
        "outputId": "6b56d229-a0b7-4f6d-fa34-c33a16372858"
      },
      "source": [
        "model_elu_momentum = keras.models.Sequential([\n",
        "    keras.layers.Flatten(input_shape=[32, 32, 3]),\n",
        "    keras.layers.Dense(100, activation='elu', kernel_initializer=\"lecun_normal\"),\n",
        "    keras.layers.Dense(100, activation='elu',  kernel_initializer=\"lecun_normal\"),\n",
        "    keras.layers.Dense(10, activation=\"softmax\")\n",
        "])\n",
        "\n",
        "model_elu_momentum.compile(loss=\"sparse_categorical_crossentropy\",\n",
        "              optimizer = keras.optimizers.SGD(lr=0.001, momentum=0.9),\n",
        "              metrics=[\"accuracy\"])\n",
        "\n",
        "history_elu_momentum = model_elu_momentum.fit(train_norm, train_labels, epochs=10,\n",
        "                    validation_data=(test_norm, test_labels))"
      ],
      "execution_count": 51,
      "outputs": [
        {
          "output_type": "stream",
          "text": [
            "Train on 50000 samples, validate on 10000 samples\n",
            "Epoch 1/10\n",
            "50000/50000 [==============================] - 4s 73us/sample - loss: 1.8697 - accuracy: 0.3358 - val_loss: 1.7993 - val_accuracy: 0.3480\n",
            "Epoch 2/10\n",
            "50000/50000 [==============================] - 3s 69us/sample - loss: 1.7076 - accuracy: 0.3979 - val_loss: 1.6686 - val_accuracy: 0.4122\n",
            "Epoch 3/10\n",
            "50000/50000 [==============================] - 3s 70us/sample - loss: 1.6341 - accuracy: 0.4232 - val_loss: 1.6536 - val_accuracy: 0.4093\n",
            "Epoch 4/10\n",
            "50000/50000 [==============================] - 4s 72us/sample - loss: 1.5865 - accuracy: 0.4412 - val_loss: 1.6435 - val_accuracy: 0.4299\n",
            "Epoch 5/10\n",
            "50000/50000 [==============================] - 4s 70us/sample - loss: 1.5452 - accuracy: 0.4545 - val_loss: 1.5367 - val_accuracy: 0.4536\n",
            "Epoch 6/10\n",
            "50000/50000 [==============================] - 4s 71us/sample - loss: 1.5154 - accuracy: 0.4669 - val_loss: 1.5185 - val_accuracy: 0.4617\n",
            "Epoch 7/10\n",
            "50000/50000 [==============================] - 4s 71us/sample - loss: 1.4851 - accuracy: 0.4782 - val_loss: 1.5078 - val_accuracy: 0.4641\n",
            "Epoch 8/10\n",
            "50000/50000 [==============================] - 4s 71us/sample - loss: 1.4652 - accuracy: 0.4819 - val_loss: 1.4644 - val_accuracy: 0.4834\n",
            "Epoch 9/10\n",
            "50000/50000 [==============================] - 4s 72us/sample - loss: 1.4409 - accuracy: 0.4921 - val_loss: 1.4578 - val_accuracy: 0.4867\n",
            "Epoch 10/10\n",
            "50000/50000 [==============================] - 4s 73us/sample - loss: 1.4183 - accuracy: 0.5007 - val_loss: 1.4486 - val_accuracy: 0.4886\n"
          ],
          "name": "stdout"
        }
      ]
    },
    {
      "cell_type": "code",
      "metadata": {
        "id": "5MsprvOMvKdj",
        "colab_type": "code",
        "colab": {
          "base_uri": "https://localhost:8080/",
          "height": 374
        },
        "outputId": "0caf2409-9e3b-40c7-fee0-2e393a4b6125"
      },
      "source": [
        "model_selu_nesterov = keras.models.Sequential([\n",
        "    keras.layers.Flatten(input_shape=[32, 32, 3]),\n",
        "    keras.layers.Dense(100, activation='selu', kernel_initializer=\"lecun_normal\"),\n",
        "    keras.layers.Dense(100, activation='selu',  kernel_initializer=\"lecun_normal\"),\n",
        "    keras.layers.Dense(10, activation=\"softmax\")\n",
        "])\n",
        "\n",
        "model_selu_nesterov.compile(loss=\"sparse_categorical_crossentropy\",\n",
        "              optimizer = keras.optimizers.SGD(lr=0.001, momentum=0.9, nesterov=True),\n",
        "              metrics=[\"accuracy\"])\n",
        "\n",
        "history_selu_nesterov = model_selu_nesterov.fit(train_norm, train_labels, epochs=10,\n",
        "                    validation_data=(test_norm, test_labels))"
      ],
      "execution_count": 52,
      "outputs": [
        {
          "output_type": "stream",
          "text": [
            "Train on 50000 samples, validate on 10000 samples\n",
            "Epoch 1/10\n",
            "50000/50000 [==============================] - 4s 76us/sample - loss: 1.8297 - accuracy: 0.3509 - val_loss: 1.7070 - val_accuracy: 0.3983\n",
            "Epoch 2/10\n",
            "50000/50000 [==============================] - 4s 73us/sample - loss: 1.6760 - accuracy: 0.4085 - val_loss: 1.6542 - val_accuracy: 0.4187\n",
            "Epoch 3/10\n",
            "50000/50000 [==============================] - 4s 73us/sample - loss: 1.6046 - accuracy: 0.4302 - val_loss: 1.5729 - val_accuracy: 0.4447\n",
            "Epoch 4/10\n",
            "50000/50000 [==============================] - 4s 73us/sample - loss: 1.5580 - accuracy: 0.4500 - val_loss: 1.5534 - val_accuracy: 0.4526\n",
            "Epoch 5/10\n",
            "50000/50000 [==============================] - 4s 73us/sample - loss: 1.5213 - accuracy: 0.4621 - val_loss: 1.5330 - val_accuracy: 0.4568\n",
            "Epoch 6/10\n",
            "50000/50000 [==============================] - 4s 74us/sample - loss: 1.4915 - accuracy: 0.4738 - val_loss: 1.5257 - val_accuracy: 0.4567\n",
            "Epoch 7/10\n",
            "50000/50000 [==============================] - 4s 75us/sample - loss: 1.4616 - accuracy: 0.4829 - val_loss: 1.4949 - val_accuracy: 0.4682\n",
            "Epoch 8/10\n",
            "50000/50000 [==============================] - 4s 74us/sample - loss: 1.4372 - accuracy: 0.4916 - val_loss: 1.4603 - val_accuracy: 0.4863\n",
            "Epoch 9/10\n",
            "50000/50000 [==============================] - 4s 74us/sample - loss: 1.4178 - accuracy: 0.5002 - val_loss: 1.4467 - val_accuracy: 0.4875\n",
            "Epoch 10/10\n",
            "50000/50000 [==============================] - 4s 75us/sample - loss: 1.3974 - accuracy: 0.5050 - val_loss: 1.4668 - val_accuracy: 0.4723\n"
          ],
          "name": "stdout"
        }
      ]
    },
    {
      "cell_type": "code",
      "metadata": {
        "id": "9zgO6mDhvMfc",
        "colab_type": "code",
        "colab": {
          "base_uri": "https://localhost:8080/",
          "height": 374
        },
        "outputId": "13be9a98-1061-4b05-e245-8d9dd111dae5"
      },
      "source": [
        "model_elu_nesterov = keras.models.Sequential([\n",
        "    keras.layers.Flatten(input_shape=[32, 32, 3]),\n",
        "    keras.layers.Dense(100, activation='elu', kernel_initializer=\"lecun_normal\"),\n",
        "    keras.layers.Dense(100, activation='elu',  kernel_initializer=\"lecun_normal\"),\n",
        "    keras.layers.Dense(10, activation=\"softmax\")\n",
        "])\n",
        "\n",
        "model_elu_nesterov.compile(loss=\"sparse_categorical_crossentropy\",\n",
        "              optimizer = keras.optimizers.SGD(lr=0.001, momentum=0.9, nesterov=True),\n",
        "              metrics=[\"accuracy\"])\n",
        "\n",
        "history_elu_nesterov = model_elu_nesterov.fit(train_norm, train_labels, epochs=10,\n",
        "                    validation_data=(test_norm, test_labels))"
      ],
      "execution_count": 53,
      "outputs": [
        {
          "output_type": "stream",
          "text": [
            "Train on 50000 samples, validate on 10000 samples\n",
            "Epoch 1/10\n",
            "50000/50000 [==============================] - 4s 73us/sample - loss: 1.8617 - accuracy: 0.3396 - val_loss: 1.7953 - val_accuracy: 0.3567\n",
            "Epoch 2/10\n",
            "50000/50000 [==============================] - 3s 65us/sample - loss: 1.6997 - accuracy: 0.4012 - val_loss: 1.6428 - val_accuracy: 0.4248\n",
            "Epoch 3/10\n",
            "50000/50000 [==============================] - 3s 68us/sample - loss: 1.6227 - accuracy: 0.4286 - val_loss: 1.5937 - val_accuracy: 0.4359\n",
            "Epoch 4/10\n",
            "50000/50000 [==============================] - 4s 71us/sample - loss: 1.5705 - accuracy: 0.4482 - val_loss: 1.5923 - val_accuracy: 0.4419\n",
            "Epoch 5/10\n",
            "50000/50000 [==============================] - 3s 69us/sample - loss: 1.5335 - accuracy: 0.4588 - val_loss: 1.5552 - val_accuracy: 0.4473\n",
            "Epoch 6/10\n",
            "50000/50000 [==============================] - 4s 74us/sample - loss: 1.5008 - accuracy: 0.4694 - val_loss: 1.4939 - val_accuracy: 0.4731\n",
            "Epoch 7/10\n",
            "50000/50000 [==============================] - 4s 74us/sample - loss: 1.4728 - accuracy: 0.4812 - val_loss: 1.4881 - val_accuracy: 0.4758\n",
            "Epoch 8/10\n",
            "50000/50000 [==============================] - 4s 71us/sample - loss: 1.4461 - accuracy: 0.4894 - val_loss: 1.5112 - val_accuracy: 0.4655\n",
            "Epoch 9/10\n",
            "50000/50000 [==============================] - 4s 70us/sample - loss: 1.4248 - accuracy: 0.4986 - val_loss: 1.4601 - val_accuracy: 0.4816\n",
            "Epoch 10/10\n",
            "50000/50000 [==============================] - 4s 76us/sample - loss: 1.4059 - accuracy: 0.5037 - val_loss: 1.4458 - val_accuracy: 0.4858\n"
          ],
          "name": "stdout"
        }
      ]
    },
    {
      "cell_type": "code",
      "metadata": {
        "id": "dvOuf-1Vvsqo",
        "colab_type": "code",
        "colab": {
          "base_uri": "https://localhost:8080/",
          "height": 374
        },
        "outputId": "ef3df1c4-7202-4f6b-e07f-0e7bce39b951"
      },
      "source": [
        "model_selu_rmsprop = keras.models.Sequential([\n",
        "    keras.layers.Flatten(input_shape=[32, 32, 3]),\n",
        "    keras.layers.Dense(100, activation='selu', kernel_initializer=\"lecun_normal\"),\n",
        "    keras.layers.Dense(100, activation='selu',  kernel_initializer=\"lecun_normal\"),\n",
        "    keras.layers.Dense(10, activation=\"softmax\")\n",
        "])\n",
        "\n",
        "model_selu_rmsprop.compile(loss=\"sparse_categorical_crossentropy\",\n",
        "              optimizer = keras.optimizers.RMSprop(lr=0.001, rho=0.9),\n",
        "              metrics=[\"accuracy\"])\n",
        "\n",
        "history_selu_rmsprop = model_selu_rmsprop.fit(train_norm, train_labels, epochs=10,\n",
        "                    validation_data=(test_norm, test_labels))"
      ],
      "execution_count": 55,
      "outputs": [
        {
          "output_type": "stream",
          "text": [
            "Train on 50000 samples, validate on 10000 samples\n",
            "Epoch 1/10\n",
            "50000/50000 [==============================] - 6s 111us/sample - loss: 2.0437 - accuracy: 0.2911 - val_loss: 1.9687 - val_accuracy: 0.3017\n",
            "Epoch 2/10\n",
            "50000/50000 [==============================] - 5s 107us/sample - loss: 1.7383 - accuracy: 0.3763 - val_loss: 1.7432 - val_accuracy: 0.3674\n",
            "Epoch 3/10\n",
            "50000/50000 [==============================] - 5s 103us/sample - loss: 1.6450 - accuracy: 0.4123 - val_loss: 1.7607 - val_accuracy: 0.3727\n",
            "Epoch 4/10\n",
            "50000/50000 [==============================] - 6s 111us/sample - loss: 1.5806 - accuracy: 0.4355 - val_loss: 1.5655 - val_accuracy: 0.4384\n",
            "Epoch 5/10\n",
            "50000/50000 [==============================] - 5s 109us/sample - loss: 1.5325 - accuracy: 0.4523 - val_loss: 1.6397 - val_accuracy: 0.4206\n",
            "Epoch 6/10\n",
            "50000/50000 [==============================] - 6s 111us/sample - loss: 1.4971 - accuracy: 0.4683 - val_loss: 1.5023 - val_accuracy: 0.4677\n",
            "Epoch 7/10\n",
            "50000/50000 [==============================] - 5s 109us/sample - loss: 1.4635 - accuracy: 0.4779 - val_loss: 1.5252 - val_accuracy: 0.4561\n",
            "Epoch 8/10\n",
            "50000/50000 [==============================] - 5s 105us/sample - loss: 1.4382 - accuracy: 0.4864 - val_loss: 1.4902 - val_accuracy: 0.4756\n",
            "Epoch 9/10\n",
            "50000/50000 [==============================] - 5s 104us/sample - loss: 1.4083 - accuracy: 0.4997 - val_loss: 1.6004 - val_accuracy: 0.4374\n",
            "Epoch 10/10\n",
            "50000/50000 [==============================] - 5s 105us/sample - loss: 1.3878 - accuracy: 0.5022 - val_loss: 1.6370 - val_accuracy: 0.4383\n"
          ],
          "name": "stdout"
        }
      ]
    },
    {
      "cell_type": "code",
      "metadata": {
        "id": "PdOYJx2Gvuhm",
        "colab_type": "code",
        "colab": {
          "base_uri": "https://localhost:8080/",
          "height": 374
        },
        "outputId": "29450295-ffcb-4130-bea4-218e408c9775"
      },
      "source": [
        "model_elu_rmsprop = keras.models.Sequential([\n",
        "    keras.layers.Flatten(input_shape=[32, 32, 3]),\n",
        "    keras.layers.Dense(100, activation='elu', kernel_initializer=\"lecun_normal\"),\n",
        "    keras.layers.Dense(100, activation='elu',  kernel_initializer=\"lecun_normal\"),\n",
        "    keras.layers.Dense(10, activation=\"softmax\")\n",
        "])\n",
        "\n",
        "model_elu_rmsprop.compile(loss=\"sparse_categorical_crossentropy\",\n",
        "              optimizer = keras.optimizers.RMSprop(lr=0.001, rho=0.9),\n",
        "              metrics=[\"accuracy\"])\n",
        "\n",
        "history_elu_rmsprop = model_elu_rmsprop.fit(train_norm, train_labels, epochs=10,\n",
        "                    validation_data=(test_norm, test_labels))"
      ],
      "execution_count": 56,
      "outputs": [
        {
          "output_type": "stream",
          "text": [
            "Train on 50000 samples, validate on 10000 samples\n",
            "Epoch 1/10\n",
            "50000/50000 [==============================] - 5s 106us/sample - loss: 1.9304 - accuracy: 0.3089 - val_loss: 1.7000 - val_accuracy: 0.3953\n",
            "Epoch 2/10\n",
            "50000/50000 [==============================] - 5s 108us/sample - loss: 1.6981 - accuracy: 0.3920 - val_loss: 1.7194 - val_accuracy: 0.3856\n",
            "Epoch 3/10\n",
            "50000/50000 [==============================] - 5s 107us/sample - loss: 1.6079 - accuracy: 0.4253 - val_loss: 1.6300 - val_accuracy: 0.4121\n",
            "Epoch 4/10\n",
            "50000/50000 [==============================] - 6s 110us/sample - loss: 1.5485 - accuracy: 0.4481 - val_loss: 1.6121 - val_accuracy: 0.4201\n",
            "Epoch 5/10\n",
            "50000/50000 [==============================] - 5s 101us/sample - loss: 1.5017 - accuracy: 0.4664 - val_loss: 1.6080 - val_accuracy: 0.4367\n",
            "Epoch 6/10\n",
            "50000/50000 [==============================] - 5s 98us/sample - loss: 1.4646 - accuracy: 0.4819 - val_loss: 1.5724 - val_accuracy: 0.4430\n",
            "Epoch 7/10\n",
            "50000/50000 [==============================] - 5s 106us/sample - loss: 1.4327 - accuracy: 0.4895 - val_loss: 1.5227 - val_accuracy: 0.4654\n",
            "Epoch 8/10\n",
            "50000/50000 [==============================] - 5s 105us/sample - loss: 1.4051 - accuracy: 0.5016 - val_loss: 1.5012 - val_accuracy: 0.4682\n",
            "Epoch 9/10\n",
            "50000/50000 [==============================] - 5s 104us/sample - loss: 1.3788 - accuracy: 0.5121 - val_loss: 1.6155 - val_accuracy: 0.4418\n",
            "Epoch 10/10\n",
            "50000/50000 [==============================] - 5s 104us/sample - loss: 1.3569 - accuracy: 0.5198 - val_loss: 1.5369 - val_accuracy: 0.4562\n"
          ],
          "name": "stdout"
        }
      ]
    },
    {
      "cell_type": "code",
      "metadata": {
        "id": "2dJkqcDiwEGJ",
        "colab_type": "code",
        "colab": {
          "base_uri": "https://localhost:8080/",
          "height": 374
        },
        "outputId": "d4abf815-5663-4ecb-b2bb-d4ba7cadc478"
      },
      "source": [
        "model_selu_adam = keras.models.Sequential([\n",
        "    keras.layers.Flatten(input_shape=[32, 32, 3]),\n",
        "    keras.layers.Dense(100, activation='selu', kernel_initializer=\"lecun_normal\"),\n",
        "    keras.layers.Dense(100, activation='selu',  kernel_initializer=\"lecun_normal\"),\n",
        "    keras.layers.Dense(10, activation=\"softmax\")\n",
        "])\n",
        "\n",
        "model_selu_adam.compile(loss=\"sparse_categorical_crossentropy\",\n",
        "              optimizer = keras.optimizers.Adam(lr=0.001, beta_1=0.9, beta_2=0.999),\n",
        "              metrics=[\"accuracy\"])\n",
        "\n",
        "history_selu_adam = model_selu_adam.fit(train_norm, train_labels, epochs=10,\n",
        "                    validation_data=(test_norm, test_labels))"
      ],
      "execution_count": 57,
      "outputs": [
        {
          "output_type": "stream",
          "text": [
            "Train on 50000 samples, validate on 10000 samples\n",
            "Epoch 1/10\n",
            "50000/50000 [==============================] - 4s 82us/sample - loss: 1.8948 - accuracy: 0.3223 - val_loss: 1.7701 - val_accuracy: 0.3650\n",
            "Epoch 2/10\n",
            "50000/50000 [==============================] - 4s 71us/sample - loss: 1.6973 - accuracy: 0.3883 - val_loss: 1.6750 - val_accuracy: 0.4059\n",
            "Epoch 3/10\n",
            "50000/50000 [==============================] - 4s 70us/sample - loss: 1.6145 - accuracy: 0.4216 - val_loss: 1.6527 - val_accuracy: 0.4067\n",
            "Epoch 4/10\n",
            "50000/50000 [==============================] - 3s 70us/sample - loss: 1.5633 - accuracy: 0.4409 - val_loss: 1.6242 - val_accuracy: 0.4231\n",
            "Epoch 5/10\n",
            "50000/50000 [==============================] - 4s 71us/sample - loss: 1.5281 - accuracy: 0.4534 - val_loss: 1.5114 - val_accuracy: 0.4691\n",
            "Epoch 6/10\n",
            "50000/50000 [==============================] - 4s 78us/sample - loss: 1.4979 - accuracy: 0.4650 - val_loss: 1.4742 - val_accuracy: 0.4767\n",
            "Epoch 7/10\n",
            "50000/50000 [==============================] - 4s 80us/sample - loss: 1.4706 - accuracy: 0.4747 - val_loss: 1.4921 - val_accuracy: 0.4650\n",
            "Epoch 8/10\n",
            "50000/50000 [==============================] - 4s 79us/sample - loss: 1.4402 - accuracy: 0.4853 - val_loss: 1.5696 - val_accuracy: 0.4414\n",
            "Epoch 9/10\n",
            "50000/50000 [==============================] - 4s 82us/sample - loss: 1.4253 - accuracy: 0.4902 - val_loss: 1.5375 - val_accuracy: 0.4607\n",
            "Epoch 10/10\n",
            "50000/50000 [==============================] - 4s 74us/sample - loss: 1.4052 - accuracy: 0.5002 - val_loss: 1.4586 - val_accuracy: 0.4788\n"
          ],
          "name": "stdout"
        }
      ]
    },
    {
      "cell_type": "code",
      "metadata": {
        "id": "Jj0OGxrMwFbN",
        "colab_type": "code",
        "colab": {
          "base_uri": "https://localhost:8080/",
          "height": 374
        },
        "outputId": "bafddf30-96ea-473f-ebfc-0179f303ee18"
      },
      "source": [
        "model_elu_adam = keras.models.Sequential([\n",
        "    keras.layers.Flatten(input_shape=[32, 32, 3]),\n",
        "    keras.layers.Dense(100, activation='elu', kernel_initializer=\"lecun_normal\"),\n",
        "    keras.layers.Dense(100, activation='elu',  kernel_initializer=\"lecun_normal\"),\n",
        "    keras.layers.Dense(10, activation=\"softmax\")\n",
        "])\n",
        "\n",
        "model_elu_adam.compile(loss=\"sparse_categorical_crossentropy\",\n",
        "              optimizer = keras.optimizers.Adam(lr=0.001, beta_1=0.9, beta_2=0.999),\n",
        "              metrics=[\"accuracy\"])\n",
        "\n",
        "history_elu_adam = model_elu_adam.fit(train_norm, train_labels, epochs=10,\n",
        "                    validation_data=(test_norm, test_labels))"
      ],
      "execution_count": 58,
      "outputs": [
        {
          "output_type": "stream",
          "text": [
            "Train on 50000 samples, validate on 10000 samples\n",
            "Epoch 1/10\n",
            "50000/50000 [==============================] - 4s 82us/sample - loss: 1.8508 - accuracy: 0.3357 - val_loss: 1.6855 - val_accuracy: 0.4010\n",
            "Epoch 2/10\n",
            "50000/50000 [==============================] - 4s 78us/sample - loss: 1.6570 - accuracy: 0.4049 - val_loss: 1.5967 - val_accuracy: 0.4268\n",
            "Epoch 3/10\n",
            "50000/50000 [==============================] - 4s 81us/sample - loss: 1.5817 - accuracy: 0.4336 - val_loss: 1.5482 - val_accuracy: 0.4415\n",
            "Epoch 4/10\n",
            "50000/50000 [==============================] - 4s 76us/sample - loss: 1.5297 - accuracy: 0.4494 - val_loss: 1.5191 - val_accuracy: 0.4542\n",
            "Epoch 5/10\n",
            "50000/50000 [==============================] - 4s 78us/sample - loss: 1.4953 - accuracy: 0.4622 - val_loss: 1.5590 - val_accuracy: 0.4407\n",
            "Epoch 6/10\n",
            "50000/50000 [==============================] - 4s 79us/sample - loss: 1.4664 - accuracy: 0.4749 - val_loss: 1.5423 - val_accuracy: 0.4532\n",
            "Epoch 7/10\n",
            "50000/50000 [==============================] - 4s 81us/sample - loss: 1.4358 - accuracy: 0.4856 - val_loss: 1.4986 - val_accuracy: 0.4688\n",
            "Epoch 8/10\n",
            "50000/50000 [==============================] - 4s 80us/sample - loss: 1.4144 - accuracy: 0.4935 - val_loss: 1.4808 - val_accuracy: 0.4683\n",
            "Epoch 9/10\n",
            "50000/50000 [==============================] - 4s 80us/sample - loss: 1.3958 - accuracy: 0.4995 - val_loss: 1.5224 - val_accuracy: 0.4555\n",
            "Epoch 10/10\n",
            "50000/50000 [==============================] - 4s 79us/sample - loss: 1.3797 - accuracy: 0.5050 - val_loss: 1.5255 - val_accuracy: 0.4488\n"
          ],
          "name": "stdout"
        }
      ]
    },
    {
      "cell_type": "code",
      "metadata": {
        "id": "0yFt-Lttwmno",
        "colab_type": "code",
        "colab": {
          "base_uri": "https://localhost:8080/",
          "height": 281
        },
        "outputId": "5279f92d-2916-4b35-b293-b5f7676ac5b7"
      },
      "source": [
        "plt.plot(history_selu_momentum.history['val_accuracy'])\n",
        "plt.plot(history_elu_momentum.history['val_accuracy'])\n",
        "plt.plot(history_selu_nesterov.history['val_accuracy'])\n",
        "plt.plot(history_elu_nesterov.history['val_accuracy'])\n",
        "plt.plot(history_selu_rmsprop.history['val_accuracy'])\n",
        "plt.plot(history_elu_rmsprop.history['val_accuracy'])\n",
        "plt.plot(history_selu_adam.history['val_accuracy'])\n",
        "plt.plot(history_elu_adam.history['val_accuracy'])\n",
        "plt.title('validation accuracy')\n",
        "plt.legend(['momentum_selu', 'momentum_elu', 'nesterov_selu', 'nesterov_elu', 'rmsprop_selu', 'rmsprop_elu', 'adam_selu', 'adam_elu'], loc='lower right')\n",
        "plt.show()"
      ],
      "execution_count": 61,
      "outputs": [
        {
          "output_type": "display_data",
          "data": {
            "text/plain": [
              "<Figure size 432x288 with 1 Axes>"
            ],
            "image/png": "[encoded data removed]"
          },
          "metadata": {
            "tags": [],
            "needs_background": "light"
          }
        }
      ]
    },
    {
      "cell_type": "code",
      "metadata": {
        "id": "_y8P2ujsxtfz",
        "colab_type": "code",
        "colab": {
          "base_uri": "https://localhost:8080/",
          "height": 374
        },
        "outputId": "cf0d1351-d146-445f-84f3-603094a4b002"
      },
      "source": [
        "model_selu_momentum_bn = keras.models.Sequential([\n",
        "    keras.layers.Flatten(input_shape=[32, 32, 3]),\n",
        "    keras.layers.BatchNormalization(),\n",
        "    keras.layers.Dense(100, activation='selu', kernel_initializer=\"lecun_normal\"),\n",
        "    keras.layers.BatchNormalization(),\n",
        "    keras.layers.Dense(100, activation='selu',  kernel_initializer=\"lecun_normal\"),\n",
        "    keras.layers.BatchNormalization(),\n",
        "    keras.layers.Dense(10, activation=\"softmax\")\n",
        "])\n",
        "\n",
        "model_selu_momentum_bn.compile(loss=\"sparse_categorical_crossentropy\",\n",
        "              optimizer = keras.optimizers.SGD(lr=0.001, momentum=0.9),\n",
        "              metrics=[\"accuracy\"])\n",
        "\n",
        "history_selu_momentum_bn = model_selu_momentum_bn.fit(train_norm, train_labels, epochs=10,\n",
        "                    validation_data=(test_norm, test_labels))"
      ],
      "execution_count": 63,
      "outputs": [
        {
          "output_type": "stream",
          "text": [
            "Train on 50000 samples, validate on 10000 samples\n",
            "Epoch 1/10\n",
            "50000/50000 [==============================] - 6s 121us/sample - loss: 1.7402 - accuracy: 0.3854 - val_loss: 1.5867 - val_accuracy: 0.4419\n",
            "Epoch 2/10\n",
            "50000/50000 [==============================] - 5s 109us/sample - loss: 1.5744 - accuracy: 0.4471 - val_loss: 1.5214 - val_accuracy: 0.4658\n",
            "Epoch 3/10\n",
            "50000/50000 [==============================] - 6s 111us/sample - loss: 1.5089 - accuracy: 0.4684 - val_loss: 1.4698 - val_accuracy: 0.4788\n",
            "Epoch 4/10\n",
            "50000/50000 [==============================] - 6s 114us/sample - loss: 1.4602 - accuracy: 0.4849 - val_loss: 1.4413 - val_accuracy: 0.4913\n",
            "Epoch 5/10\n",
            "50000/50000 [==============================] - 6s 112us/sample - loss: 1.4289 - accuracy: 0.4976 - val_loss: 1.4211 - val_accuracy: 0.4984\n",
            "Epoch 6/10\n",
            "50000/50000 [==============================] - 6s 111us/sample - loss: 1.3953 - accuracy: 0.5080 - val_loss: 1.4149 - val_accuracy: 0.5002\n",
            "Epoch 7/10\n",
            "50000/50000 [==============================] - 6s 112us/sample - loss: 1.3637 - accuracy: 0.5195 - val_loss: 1.3867 - val_accuracy: 0.5023\n",
            "Epoch 8/10\n",
            "50000/50000 [==============================] - 6s 111us/sample - loss: 1.3459 - accuracy: 0.5265 - val_loss: 1.3919 - val_accuracy: 0.5029\n",
            "Epoch 9/10\n",
            "50000/50000 [==============================] - 6s 115us/sample - loss: 1.3262 - accuracy: 0.5320 - val_loss: 1.3948 - val_accuracy: 0.5021\n",
            "Epoch 10/10\n",
            "50000/50000 [==============================] - 6s 113us/sample - loss: 1.3023 - accuracy: 0.5409 - val_loss: 1.3837 - val_accuracy: 0.5073\n"
          ],
          "name": "stdout"
        }
      ]
    },
    {
      "cell_type": "code",
      "metadata": {
        "id": "NheeLDLGyZPO",
        "colab_type": "code",
        "colab": {
          "base_uri": "https://localhost:8080/",
          "height": 374
        },
        "outputId": "18b910ed-209e-45a4-a2f8-1f9a3642b098"
      },
      "source": [
        "model_selu_momentum_dropout = keras.models.Sequential([\n",
        "    keras.layers.Flatten(input_shape=[32, 32, 3]),\n",
        "    keras.layers.Dropout(rate=0.2),\n",
        "    keras.layers.Dense(100, activation='selu', kernel_initializer=\"lecun_normal\"),\n",
        "    keras.layers.Dropout(rate=0.2),\n",
        "    keras.layers.Dense(100, activation='selu',  kernel_initializer=\"lecun_normal\"),\n",
        "    keras.layers.Dropout(rate=0.2),\n",
        "    keras.layers.Dense(10, activation=\"softmax\")\n",
        "])\n",
        "\n",
        "model_selu_momentum_dropout.compile(loss=\"sparse_categorical_crossentropy\",\n",
        "              optimizer = keras.optimizers.SGD(lr=0.001, momentum=0.9),\n",
        "              metrics=[\"accuracy\"])\n",
        "\n",
        "history_selu_momentum_dropout = model_selu_momentum_dropout.fit(train_norm, train_labels, epochs=10,\n",
        "                    validation_data=(test_norm, test_labels))"
      ],
      "execution_count": 64,
      "outputs": [
        {
          "output_type": "stream",
          "text": [
            "Train on 50000 samples, validate on 10000 samples\n",
            "Epoch 1/10\n",
            "50000/50000 [==============================] - 5s 98us/sample - loss: 2.0639 - accuracy: 0.2741 - val_loss: 1.8154 - val_accuracy: 0.3617\n",
            "Epoch 2/10\n",
            "50000/50000 [==============================] - 4s 90us/sample - loss: 1.8884 - accuracy: 0.3234 - val_loss: 1.7539 - val_accuracy: 0.3790\n",
            "Epoch 3/10\n",
            "50000/50000 [==============================] - 4s 89us/sample - loss: 1.8346 - accuracy: 0.3445 - val_loss: 1.7718 - val_accuracy: 0.3717\n",
            "Epoch 4/10\n",
            "50000/50000 [==============================] - 5s 103us/sample - loss: 1.8006 - accuracy: 0.3578 - val_loss: 1.6969 - val_accuracy: 0.3932\n",
            "Epoch 5/10\n",
            "50000/50000 [==============================] - 4s 86us/sample - loss: 1.7656 - accuracy: 0.3695 - val_loss: 1.6578 - val_accuracy: 0.4141\n",
            "Epoch 6/10\n",
            "50000/50000 [==============================] - 4s 88us/sample - loss: 1.7419 - accuracy: 0.3803 - val_loss: 1.6438 - val_accuracy: 0.4194\n",
            "Epoch 7/10\n",
            "50000/50000 [==============================] - 4s 88us/sample - loss: 1.7227 - accuracy: 0.3845 - val_loss: 1.6335 - val_accuracy: 0.4247\n",
            "Epoch 8/10\n",
            "50000/50000 [==============================] - 5s 93us/sample - loss: 1.7075 - accuracy: 0.3898 - val_loss: 1.6043 - val_accuracy: 0.4321\n",
            "Epoch 9/10\n",
            "50000/50000 [==============================] - 5s 94us/sample - loss: 1.6892 - accuracy: 0.3965 - val_loss: 1.5992 - val_accuracy: 0.4354\n",
            "Epoch 10/10\n",
            "50000/50000 [==============================] - 4s 86us/sample - loss: 1.6790 - accuracy: 0.4014 - val_loss: 1.5957 - val_accuracy: 0.4318\n"
          ],
          "name": "stdout"
        }
      ]
    }
  ]
}